{
  "nbformat": 4,
  "nbformat_minor": 0,
  "metadata": {
    "colab": {
      "provenance": [],
      "authorship_tag": "ABX9TyO60DlA9JtccExOwT46KeOe",
      "include_colab_link": true
    },
    "kernelspec": {
      "name": "python3",
      "display_name": "Python 3"
    },
    "language_info": {
      "name": "python"
    }
  },
  "cells": [
    {
      "cell_type": "markdown",
      "metadata": {
        "id": "view-in-github",
        "colab_type": "text"
      },
      "source": [
        "<a href=\"https://colab.research.google.com/github/sp-mujuni/Zero-Burn-algorithm/blob/main/Zer0_Burn_3.ipynb\" target=\"_parent\"><img src=\"https://colab.research.google.com/assets/colab-badge.svg\" alt=\"Open In Colab\"/></a>"
      ]
    },
    {
      "cell_type": "code",
      "execution_count": 4,
      "metadata": {
        "colab": {
          "base_uri": "https://localhost:8080/"
        },
        "id": "_b-qaSG4TcS9",
        "outputId": "0e25f736-ec58-4b54-d297-901851a0b307"
      },
      "outputs": [
        {
          "output_type": "stream",
          "name": "stdout",
          "text": [
            "Hours model MSE: 867.33\n",
            "Workload model MSE: 141.69\n",
            "\n",
            "Recommendations for John Doe:\n",
            "- You can potentially increase your weekly hours from 7.7 to approximately 39.5 hours without risking burnout\n",
            "- You can potentially handle more tasks. Consider increasing from 10 to approximately 36 tasks per week\n"
          ]
        },
        {
          "output_type": "stream",
          "name": "stderr",
          "text": [
            "/usr/local/lib/python3.10/dist-packages/sklearn/base.py:465: UserWarning: X does not have valid feature names, but StandardScaler was fitted with feature names\n",
            "  warnings.warn(\n"
          ]
        }
      ],
      "source": [
        "import datetime\n",
        "from typing import List, Dict\n",
        "import numpy as np\n",
        "import pandas as pd\n",
        "from sklearn.linear_model import LinearRegression\n",
        "from sklearn.model_selection import train_test_split\n",
        "from sklearn.preprocessing import StandardScaler\n",
        "from sklearn.metrics import mean_squared_error\n",
        "\n",
        "class Developer:\n",
        "    def __init__(self, name: str, role: str):\n",
        "        self.name = name\n",
        "        self.role = role\n",
        "        self.tasks: List[Dict] = []\n",
        "        self.hours_worked: Dict[datetime.date, float] = {}\n",
        "        self.burnout_rate: Dict[datetime.date, float] = {}  # 0-1 scale, 1 being complete burnout\n",
        "        self.ai_assistance_enabled = False  # Attribute for AI assistance\n",
        "\n",
        "class BurnoutPreventionSystem:\n",
        "    def __init__(self, data_file: str):\n",
        "        self.developers: List[Developer] = []\n",
        "        self.hours_model = LinearRegression()\n",
        "        self.workload_model = LinearRegression()\n",
        "        self.scaler = StandardScaler()\n",
        "        self.data = pd.read_csv('developer_data.csv')\n",
        "\n",
        "    def add_developer(self, developer: Developer):\n",
        "        self.developers.append(developer)\n",
        "\n",
        "    def prepare_data(self):\n",
        "        X = self.data[['weekly_hours', 'weekly_burnout', 'weekly_tasks']]\n",
        "        y_hours = self.data['next_week_hours']\n",
        "        y_workload = self.data['next_week_tasks']\n",
        "        return X, y_hours, y_workload\n",
        "\n",
        "    def train_models(self):\n",
        "        X, y_hours, y_workload = self.prepare_data()\n",
        "        X = self.scaler.fit_transform(X)\n",
        "\n",
        "        # Train hours model\n",
        "        X_train, X_test, y_hours_train, y_hours_test = train_test_split(X, y_hours, test_size=0.2, random_state=42)\n",
        "        self.hours_model.fit(X_train, y_hours_train)\n",
        "        hours_pred = self.hours_model.predict(X_test)\n",
        "        hours_mse = mean_squared_error(y_hours_test, hours_pred)\n",
        "        print(f\"Hours model MSE: {hours_mse:.2f}\")\n",
        "\n",
        "        # Train workload model\n",
        "        X_train, X_test, y_workload_train, y_workload_test = train_test_split(X, y_workload, test_size=0.2, random_state=42)\n",
        "        self.workload_model.fit(X_train, y_workload_train)\n",
        "        workload_pred = self.workload_model.predict(X_test)\n",
        "        workload_mse = mean_squared_error(y_workload_test, workload_pred)\n",
        "        print(f\"Workload model MSE: {workload_mse:.2f}\")\n",
        "\n",
        "    def predict_optimal_conditions(self, weekly_hours: float, weekly_burnout: float, weekly_tasks: int):\n",
        "        recent_data = np.array([[weekly_hours, weekly_burnout, weekly_tasks]])\n",
        "        recent_data = self.scaler.transform(recent_data)\n",
        "        optimal_hours = self.hours_model.predict(recent_data)[0]\n",
        "        optimal_workload = self.workload_model.predict(recent_data)[0]\n",
        "        return optimal_hours, optimal_workload\n",
        "\n",
        "    def get_recommendations(self, developer: Developer):\n",
        "        recent_weekly_hours = np.mean(list(developer.hours_worked.values())[-7:])\n",
        "        recent_burnout = np.mean(list(developer.burnout_rate.values())[-7:])\n",
        "        recent_tasks = len([task for task in developer.tasks if task['deadline'] > datetime.date.today()])\n",
        "\n",
        "        optimal_hours, optimal_workload = self.predict_optimal_conditions(recent_weekly_hours, recent_burnout, recent_tasks)\n",
        "\n",
        "        recommendations = []\n",
        "\n",
        "        if recent_weekly_hours > optimal_hours:\n",
        "            recommendations.append(f\"Reduce weekly working hours from {recent_weekly_hours:.1f} to approximately {optimal_hours:.1f} hours\")\n",
        "        elif recent_weekly_hours < optimal_hours:\n",
        "            recommendations.append(f\"You can potentially increase your weekly hours from {recent_weekly_hours:.1f} to approximately {optimal_hours:.1f} hours without risking burnout\")\n",
        "\n",
        "        if recent_tasks > optimal_workload:\n",
        "            recommendations.append(f\"Reduce your weekly tasks from {recent_tasks} to approximately {optimal_workload:.0f} tasks\")\n",
        "        elif recent_tasks < optimal_workload:\n",
        "            recommendations.append(f\"You can potentially handle more tasks. Consider increasing from {recent_tasks} to approximately {optimal_workload:.0f} tasks per week\")\n",
        "\n",
        "        if recent_burnout > 0.7:\n",
        "            recommendations.append(\"Your recent burnout rate is high. Consider taking some time off or reducing workload significantly\")\n",
        "        elif recent_burnout > 0.5:\n",
        "            recommendations.append(\"Your burnout rate is moderate. Monitor closely and consider implementing stress-reduction techniques\")\n",
        "\n",
        "        return recommendations\n",
        "\n",
        "    def monitor_burnout(self):\n",
        "        for developer in self.developers:\n",
        "            recommendations = self.get_recommendations(developer)\n",
        "            print(f\"\\nRecommendations for {developer.name}:\")\n",
        "            for recommendation in recommendations:\n",
        "                print(f\"- {recommendation}\")\n",
        "\n",
        "# Example usage\n",
        "if __name__ == \"__main__\":\n",
        "    # Assume we have a CSV file named 'developer_data.csv' with columns:\n",
        "    # weekly_hours, weekly_burnout, weekly_tasks, next_week_hours, next_week_tasks\n",
        "    bps = BurnoutPreventionSystem('developer_data.csv')\n",
        "\n",
        "    # Train the models\n",
        "    bps.train_models()\n",
        "\n",
        "    # Add a developer\n",
        "    dev = Developer(\"John Doe\", \"Software Engineer\")\n",
        "    bps.add_developer(dev)\n",
        "\n",
        "    # Simulate some data for the developer\n",
        "    for _ in range(30):\n",
        "        date = datetime.date.today() - datetime.timedelta(days=_)\n",
        "        dev.hours_worked[date] = np.random.randint(6, 11)\n",
        "        dev.burnout_rate[date] = min(1, max(0, np.random.normal(0.5, 0.2)))\n",
        "\n",
        "    # Add some tasks\n",
        "    for _ in range(10):\n",
        "        deadline = datetime.date.today() + datetime.timedelta(days=np.random.randint(1, 14))\n",
        "        dev.tasks.append({\n",
        "            \"name\": f\"Task {_ + 1}\",\n",
        "            \"deadline\": deadline,\n",
        "            \"estimated_hours\": np.random.randint(2, 8),\n",
        "        })\n",
        "\n",
        "    # Monitor burnout and provide recommendations\n",
        "    bps.monitor_burnout()"
      ]
    }
  ]
}